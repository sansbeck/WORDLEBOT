{
  "cells": [
    {
      "cell_type": "markdown",
      "metadata": {
        "id": "5h82u8PnvAQ7"
      },
      "source": [
        "# Game of WORDLE"
      ]
    },
    {
      "cell_type": "markdown",
      "metadata": {
        "id": "CdEH1D8_vAQ9"
      },
      "source": [
        "Wordle is a popular word guessing game. Here are the rules of the game:\n",
        "\n",
        "The game begins with a randomly selected five-letter word.\n",
        "The player must guess the word within ten attempts.\n",
        "\n",
        "After each guess, the player will receive feedback in the form of a list of integers of length 5, containing either 0,1, or 2 (eg [0,0,1,2,1] or [1,1,2,0,1])\n",
        "\n",
        "If the ith integer is:\n",
        "*  0, then the ith letter of the guess is not present in the word\n",
        "* 1, then the ith letter of the guess is correctly positioned\n",
        "* 2, then the ith letter of the guess is present in the word but is misplaced.\n",
        "\n",
        "The player can use this feedback to refine their guesses and work towards solving the word.\n",
        "The game ends when the player correctly guesses the word or uses up all ten attempts.\n",
        "\n",
        "\n",
        "**You have been provided with most of the code to run the wordle game, to take in your guesses and to provide feedback. Your task is to code the ```generate_guess()``` function which takes as input a feedback which is a list of integers of length 5 containing either 0, 1 or 2 as explained earlier and returns the best possible guess of a 5 letter word.**\n",
        "\n",
        "The list of words to choose from is stored in the variable ```self.words```, and the correct word is guaranteed to belong to this list.\n",
        "\n",
        "The game runs your algorithm for 10 different words and prints out your guesses and whether you got the correct answer. Note that, an average human takes just above 4 guesses to solve a wordle. With 10 allowed guesses your algorithm has infact been given a lot of headroom. Try to do better than 10 and optimize as much as you can."
      ]
    },
    {
      "cell_type": "code",
      "source": [
        "from google.colab import drive\n",
        "import sys\n",
        "drive.mount('/content/drive/', force_remount = True)\n",
        "sys.path.append('/content/drive/MyDrive/wordle')\n",
        "from utils import *"
      ],
      "metadata": {
        "id": "6RCXri0ZchpK",
        "colab": {
          "base_uri": "https://localhost:8080/"
        },
        "outputId": "089a4bf3-e345-474d-ff71-6cb3ca6c86ec"
      },
      "execution_count": null,
      "outputs": [
        {
          "output_type": "stream",
          "name": "stdout",
          "text": [
            "Mounted at /content/drive/\n"
          ]
        }
      ]
    },
    {
      "cell_type": "code",
      "execution_count": null,
      "metadata": {
        "id": "wn2cqzVovAQ-"
      },
      "outputs": [],
      "source": [
        "  class Solver(Wordle):\n",
        "    def __init__(self):\n",
        "        super().__init__()\n",
        "        self.choice = []\n",
        "\n",
        "    def generate_guess(self, feedback=None):\n",
        "        guess = \"hello\"\n",
        "        if(feedback is None):\n",
        "          return guess\n",
        "        if self.choice == []:\n",
        "          nowlist = self.words.copy()\n",
        "        else:\n",
        "          nowlist = self.choice.copy()\n",
        "          self.choice = []\n",
        "        for l in nowlist:\n",
        "          reply = []\n",
        "          j=0\n",
        "          for t in self.guesses[-1]:\n",
        "            if t not in l:\n",
        "              reply.append(0)\n",
        "            else:\n",
        "              if t == l[j]:\n",
        "                  reply.append(1)\n",
        "              else:\n",
        "                  reply.append(2)\n",
        "\n",
        "            j=j+1\n",
        "          if reply == feedback:\n",
        "            self.choice.append(l)\n",
        "        guess = self.choice[-1]\n",
        "        return guess"
      ]
    },
    {
      "cell_type": "code",
      "execution_count": null,
      "metadata": {
        "id": "l88MLDqfvAQ_",
        "colab": {
          "base_uri": "https://localhost:8080/"
        },
        "outputId": "094a97da-bdb8-4559-8b05-e5cf8af81e85"
      },
      "outputs": [
        {
          "output_type": "stream",
          "name": "stdout",
          "text": [
            "Simulating for  10  words.\n",
            "\n",
            "WORD #[ 1 / 10 ]\n",
            "\tGuess # 1 \t: hello \tFeedback:  [0, 2, 0, 0, 2]\n",
            "\tGuess # 2 \t: osier \tFeedback:  [2, 2, 1, 2, 0]\n",
            "\tGuess # 3 \t: poise \tFeedback:  [1, 1, 1, 1, 1]\n",
            "\t\n",
            "Success.\tCorrect word:  poise \tNumber of guesses:  3\n",
            "\n",
            "\n",
            "WORD #[ 2 / 10 ]\n",
            "\tGuess # 1 \t: hello \tFeedback:  [0, 0, 2, 2, 0]\n",
            "\tGuess # 2 \t: pupal \tFeedback:  [0, 0, 0, 2, 2]\n",
            "\tGuess # 3 \t: lycra \tFeedback:  [2, 0, 0, 2, 2]\n",
            "\tGuess # 4 \t: flair \tFeedback:  [1, 1, 1, 1, 1]\n",
            "\t\n",
            "Success.\tCorrect word:  flair \tNumber of guesses:  4\n",
            "\n",
            "\n",
            "WORD #[ 3 / 10 ]\n",
            "\tGuess # 1 \t: hello \tFeedback:  [2, 0, 2, 2, 0]\n",
            "\tGuess # 2 \t: phial \tFeedback:  [0, 1, 0, 2, 1]\n",
            "\tGuess # 3 \t: shawl \tFeedback:  [1, 1, 1, 1, 1]\n",
            "\t\n",
            "Success.\tCorrect word:  shawl \tNumber of guesses:  3\n",
            "\n",
            "\n",
            "WORD #[ 4 / 10 ]\n",
            "\tGuess # 1 \t: hello \tFeedback:  [0, 1, 0, 0, 0]\n",
            "\tGuess # 2 \t: nerdy \tFeedback:  [1, 1, 1, 1, 1]\n",
            "\t\n",
            "Success.\tCorrect word:  nerdy \tNumber of guesses:  2\n",
            "\n",
            "\n",
            "WORD #[ 5 / 10 ]\n",
            "\tGuess # 1 \t: hello \tFeedback:  [0, 1, 0, 0, 0]\n",
            "\tGuess # 2 \t: nerdy \tFeedback:  [0, 1, 0, 2, 0]\n",
            "\tGuess # 3 \t: dewed \tFeedback:  [1, 1, 0, 2, 2]\n",
            "\tGuess # 4 \t: demit \tFeedback:  [1, 1, 0, 0, 0]\n",
            "\tGuess # 5 \t: degas \tFeedback:  [1, 1, 0, 0, 1]\n",
            "\tGuess # 6 \t: deeps \tFeedback:  [1, 1, 1, 1, 1]\n",
            "\t\n",
            "Success.\tCorrect word:  deeps \tNumber of guesses:  6\n",
            "\n",
            "\n",
            "WORD #[ 6 / 10 ]\n",
            "\tGuess # 1 \t: hello \tFeedback:  [0, 0, 0, 0, 0]\n",
            "\tGuess # 2 \t:  \tFeedback:  []\n",
            "\tGuess # 3 \t:  \tFeedback:  []\n",
            "\tGuess # 4 \t:  \tFeedback:  []\n",
            "\tGuess # 5 \t:  \tFeedback:  []\n",
            "\tGuess # 6 \t:  \tFeedback:  []\n",
            "\tGuess # 7 \t:  \tFeedback:  []\n",
            "\tGuess # 8 \t:  \tFeedback:  []\n",
            "\tGuess # 9 \t:  \tFeedback:  []\n",
            "\tGuess # 10 \t:  \tFeedback:  []\n",
            "\tFailed to find correct word within 10 guesses. \t Correct word:  gawky\n",
            "\n",
            "\n",
            "WORD #[ 7 / 10 ]\n",
            "\tGuess # 1 \t: hello \tFeedback:  [0, 0, 2, 2, 0]\n",
            "\tGuess # 2 \t: pupal \tFeedback:  [0, 0, 0, 2, 2]\n",
            "\tGuess # 3 \t: lycra \tFeedback:  [2, 0, 0, 0, 2]\n",
            "\tGuess # 4 \t: algin \tFeedback:  [2, 1, 0, 0, 0]\n",
            "\tGuess # 5 \t: slaws \tFeedback:  [2, 1, 1, 0, 2]\n",
            "\tGuess # 6 \t: flask \tFeedback:  [0, 1, 1, 1, 0]\n",
            "\tGuess # 7 \t: blast \tFeedback:  [1, 1, 1, 1, 1]\n",
            "\t\n",
            "Success.\tCorrect word:  blast \tNumber of guesses:  7\n",
            "\n",
            "\n",
            "WORD #[ 8 / 10 ]\n",
            "\tGuess # 1 \t: hello \tFeedback:  [0, 0, 0, 0, 0]\n",
            "\tGuess # 2 \t:  \tFeedback:  []\n",
            "\tGuess # 3 \t:  \tFeedback:  []\n",
            "\tGuess # 4 \t:  \tFeedback:  []\n",
            "\tGuess # 5 \t:  \tFeedback:  []\n",
            "\tGuess # 6 \t:  \tFeedback:  []\n",
            "\tGuess # 7 \t:  \tFeedback:  []\n",
            "\tGuess # 8 \t:  \tFeedback:  []\n",
            "\tGuess # 9 \t:  \tFeedback:  []\n",
            "\tGuess # 10 \t:  \tFeedback:  []\n",
            "\tFailed to find correct word within 10 guesses. \t Correct word:  fawns\n",
            "\n",
            "\n",
            "WORD #[ 9 / 10 ]\n",
            "\tGuess # 1 \t: hello \tFeedback:  [0, 0, 0, 0, 0]\n",
            "\tGuess # 2 \t:  \tFeedback:  []\n",
            "\tGuess # 3 \t:  \tFeedback:  []\n",
            "\tGuess # 4 \t:  \tFeedback:  []\n",
            "\tGuess # 5 \t:  \tFeedback:  []\n",
            "\tGuess # 6 \t:  \tFeedback:  []\n",
            "\tGuess # 7 \t:  \tFeedback:  []\n",
            "\tGuess # 8 \t:  \tFeedback:  []\n",
            "\tGuess # 9 \t:  \tFeedback:  []\n",
            "\tGuess # 10 \t:  \tFeedback:  []\n",
            "\tFailed to find correct word within 10 guesses. \t Correct word:  nimbi\n",
            "\n",
            "\n",
            "WORD #[ 10 / 10 ]\n",
            "\tGuess # 1 \t: hello \tFeedback:  [0, 2, 0, 0, 0]\n",
            "\tGuess # 2 \t: assed \tFeedback:  [2, 0, 0, 1, 0]\n",
            "\tGuess # 3 \t: macer \tFeedback:  [0, 1, 0, 1, 1]\n",
            "\tGuess # 4 \t: razer \tFeedback:  [2, 1, 1, 1, 1]\n",
            "\tGuess # 5 \t: gazer \tFeedback:  [1, 1, 1, 1, 1]\n",
            "\t\n",
            "Success.\tCorrect word:  gazer \tNumber of guesses:  5\n",
            "\n",
            "\n"
          ]
        }
      ],
      "source": [
        "game = Game(Solver, N=10)\n",
        "game.run()"
      ]
    },
    {
      "cell_type": "code",
      "execution_count": null,
      "metadata": {
        "id": "vW097vHbvAQ_"
      },
      "outputs": [],
      "source": []
    }
  ],
  "metadata": {
    "kernelspec": {
      "display_name": "base",
      "language": "python",
      "name": "python3"
    },
    "language_info": {
      "codemirror_mode": {
        "name": "ipython",
        "version": 3
      },
      "file_extension": ".py",
      "mimetype": "text/x-python",
      "name": "python",
      "nbconvert_exporter": "python",
      "pygments_lexer": "ipython3",
      "version": "3.10.9"
    },
    "orig_nbformat": 4,
    "colab": {
      "provenance": []
    }
  },
  "nbformat": 4,
  "nbformat_minor": 0
}